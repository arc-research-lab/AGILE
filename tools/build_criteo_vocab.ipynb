{
 "cells": [
  {
   "cell_type": "code",
   "execution_count": 1,
   "metadata": {},
   "outputs": [],
   "source": [
    "import os\n",
    "import math\n",
    "import struct\n",
    "from collections import Counter\n",
    "from tqdm import tqdm"
   ]
  },
  {
   "cell_type": "code",
   "execution_count": null,
   "metadata": {},
   "outputs": [
    {
     "name": "stdout",
     "output_type": "stream",
     "text": [
      "Pass 1: Counting categorical value frequencies...\n"
     ]
    },
    {
     "name": "stderr",
     "output_type": "stream",
     "text": [
      "Scanning day_0: 195841983it [47:44, 68359.16it/s]\n",
      "Scanning day_1: 199563535it [49:51, 66708.48it/s]\n",
      "Scanning day_2: 196792019it [50:00, 65592.39it/s]\n"
     ]
    },
    {
     "name": "stdout",
     "output_type": "stream",
     "text": [
      "Building vocabularies...\n",
      "Pass 2: Processing and writing binary files...\n"
     ]
    },
    {
     "name": "stderr",
     "output_type": "stream",
     "text": [
      "Processing day_0: 21it [00:00, 27035.11it/s]\n"
     ]
    },
    {
     "ename": "ValueError",
     "evalue": "math domain error",
     "output_type": "error",
     "traceback": [
      "\u001b[0;31m---------------------------------------------------------------------------\u001b[0m",
      "\u001b[0;31mValueError\u001b[0m                                Traceback (most recent call last)",
      "Cell \u001b[0;32mIn[2], line 64\u001b[0m\n\u001b[1;32m     62\u001b[0m \u001b[38;5;28;01mfor\u001b[39;00m d \u001b[38;5;129;01min\u001b[39;00m dense_fields:\n\u001b[1;32m     63\u001b[0m     val \u001b[38;5;241m=\u001b[39m \u001b[38;5;28mint\u001b[39m(d) \u001b[38;5;28;01mif\u001b[39;00m d \u001b[38;5;241m!=\u001b[39m \u001b[38;5;124m'\u001b[39m\u001b[38;5;124m'\u001b[39m \u001b[38;5;28;01melse\u001b[39;00m \u001b[38;5;241m0\u001b[39m\n\u001b[0;32m---> 64\u001b[0m     log_val \u001b[38;5;241m=\u001b[39m \u001b[43mmath\u001b[49m\u001b[38;5;241;43m.\u001b[39;49m\u001b[43mlog\u001b[49m\u001b[43m(\u001b[49m\u001b[43mval\u001b[49m\u001b[43m \u001b[49m\u001b[38;5;241;43m+\u001b[39;49m\u001b[43m \u001b[49m\u001b[38;5;241;43m1\u001b[39;49m\u001b[43m)\u001b[49m\n\u001b[1;32m     65\u001b[0m     dense_bin\u001b[38;5;241m.\u001b[39mwrite(struct\u001b[38;5;241m.\u001b[39mpack(\u001b[38;5;124m'\u001b[39m\u001b[38;5;124mf\u001b[39m\u001b[38;5;124m'\u001b[39m, log_val))  \u001b[38;5;66;03m# 4-byte float\u001b[39;00m\n\u001b[1;32m     67\u001b[0m \u001b[38;5;66;03m# === Categorical features ===\u001b[39;00m\n",
      "\u001b[0;31mValueError\u001b[0m: math domain error"
     ]
    }
   ],
   "source": [
    "# === Parameters ===\n",
    "input_days = [\"day_0\", \"day_1\", \"day_2\"]\n",
    "input_dir = \"./\"\n",
    "min_freq = 1\n",
    "output_dir = \"./\"\n",
    "os.makedirs(output_dir, exist_ok=True)\n",
    "\n",
    "dense_dim = 13\n",
    "cat_dim = 26\n",
    "\n",
    "# === Step 1: Count categorical value frequencies ===\n",
    "cat_counters = [Counter() for _ in range(cat_dim)]\n",
    "\n",
    "print(\"Pass 1: Counting categorical value frequencies...\")\n",
    "for fname in input_days:\n",
    "    file_path = os.path.join(input_dir, fname)\n",
    "    with open(file_path, 'r') as f:\n",
    "        for line in tqdm(f, desc=f\"Scanning {fname}\"):\n",
    "            fields = line.strip().split('\\t')\n",
    "            if len(fields) < 1 + dense_dim + cat_dim:\n",
    "                continue\n",
    "            cat_fields = fields[1 + dense_dim : 1 + dense_dim + cat_dim]\n",
    "            for i, val in enumerate(cat_fields):\n",
    "                try:\n",
    "                    cat_int = int(val, 16)\n",
    "                except:\n",
    "                    cat_int = 0\n",
    "                cat_counters[i][cat_int] += 1\n",
    "\n",
    "# === Step 2: Build vocab mappings ===\n",
    "print(\"Building vocabularies...\")\n",
    "cat_vocabs = []\n",
    "for i in range(cat_dim):\n",
    "    vocab = {}\n",
    "    idx = 1  # 0 = <unk>\n",
    "    for val, freq in cat_counters[i].items():\n",
    "        if freq >= min_freq:\n",
    "            vocab[val] = idx\n",
    "            idx += 1\n",
    "    cat_vocabs.append(vocab)\n"
   ]
  },
  {
   "cell_type": "code",
   "execution_count": 5,
   "metadata": {},
   "outputs": [
    {
     "name": "stdout",
     "output_type": "stream",
     "text": [
      "Pass 2: Processing and writing binary files...\n"
     ]
    },
    {
     "name": "stderr",
     "output_type": "stream",
     "text": [
      "Processing day_0: 195841983it [1:15:02, 43495.87it/s]\n",
      "Processing day_1: 199563535it [1:16:43, 43349.61it/s]\n",
      "Processing day_2: 196792019it [1:15:42, 43325.48it/s]"
     ]
    },
    {
     "name": "stdout",
     "output_type": "stream",
     "text": [
      "Done! Binary files saved to: ./\n"
     ]
    },
    {
     "name": "stderr",
     "output_type": "stream",
     "text": [
      "\n"
     ]
    }
   ],
   "source": [
    "\n",
    "# === Step 3: Open binary output files ===\n",
    "label_bin = open(os.path.join(output_dir, \"labels.bin\"), \"wb\")\n",
    "dense_bin = open(os.path.join(output_dir, \"dense.bin\"), \"wb\")\n",
    "cat_bin = open(os.path.join(output_dir, \"categorical.bin\"), \"wb\")\n",
    "\n",
    "print(\"Pass 2: Processing and writing binary files...\")\n",
    "for fname in input_days:\n",
    "    file_path = os.path.join(input_dir, fname)\n",
    "    with open(file_path, 'r') as f:\n",
    "        for line in tqdm(f, desc=f\"Processing {fname}\"):\n",
    "            fields = line.strip().split('\\t')\n",
    "            if len(fields) < 1 + dense_dim + cat_dim:\n",
    "                continue\n",
    "\n",
    "            # === Label ===\n",
    "            label = int(fields[0])\n",
    "            label_bin.write(struct.pack('B', label))  # 1 byte\n",
    "\n",
    "            # === Dense features ===\n",
    "            dense_fields = fields[1 : 1 + dense_dim]\n",
    "            for d in dense_fields:\n",
    "                val = int(d) if d != '' else 0\n",
    "                if val < 0:\n",
    "                    val = 0 \n",
    "                log_val = math.log(val + 1)\n",
    "                dense_bin.write(struct.pack('f', log_val))  # 4-byte float\n",
    "\n",
    "            # === Categorical features ===\n",
    "            cat_fields = fields[1 + dense_dim : 1 + dense_dim + cat_dim]\n",
    "            for i, val in enumerate(cat_fields):\n",
    "                try:\n",
    "                    cat_int = int(val, 16)\n",
    "                except:\n",
    "                    cat_int = 0\n",
    "                idx = cat_vocabs[i].get(cat_int, 0)\n",
    "                cat_bin.write(struct.pack('i', idx))  # 4-byte int\n",
    "\n",
    "label_bin.close()\n",
    "dense_bin.close()\n",
    "cat_bin.close()\n",
    "print(\"Done! Binary files saved to:\", output_dir)"
   ]
  }
 ],
 "metadata": {
  "kernelspec": {
   "display_name": "torchserve",
   "language": "python",
   "name": "python3"
  },
  "language_info": {
   "codemirror_mode": {
    "name": "ipython",
    "version": 3
   },
   "file_extension": ".py",
   "mimetype": "text/x-python",
   "name": "python",
   "nbconvert_exporter": "python",
   "pygments_lexer": "ipython3",
   "version": "3.12.8"
  }
 },
 "nbformat": 4,
 "nbformat_minor": 2
}
